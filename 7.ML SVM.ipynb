{
 "cells": [
  {
   "cell_type": "code",
   "execution_count": 1,
   "metadata": {},
   "outputs": [],
   "source": [
    "import pandas as pd\n",
    "import numpy as np\n",
    "from sklearn.model_selection import train_test_split\n",
    "from sklearn.preprocessing import LabelEncoder\n",
    "from sklearn.metrics import accuracy_score, confusion_matrix\n",
    "from sklearn.svm import SVC\n",
    "from collections import Counter"
   ]
  },
  {
   "cell_type": "code",
   "execution_count": 2,
   "metadata": {},
   "outputs": [
    {
     "data": {
      "text/html": [
       "<div>\n",
       "<style scoped>\n",
       "    .dataframe tbody tr th:only-of-type {\n",
       "        vertical-align: middle;\n",
       "    }\n",
       "\n",
       "    .dataframe tbody tr th {\n",
       "        vertical-align: top;\n",
       "    }\n",
       "\n",
       "    .dataframe thead th {\n",
       "        text-align: right;\n",
       "    }\n",
       "</style>\n",
       "<table border=\"1\" class=\"dataframe\">\n",
       "  <thead>\n",
       "    <tr style=\"text-align: right;\">\n",
       "      <th></th>\n",
       "      <th>buying</th>\n",
       "      <th>maint</th>\n",
       "      <th>doors</th>\n",
       "      <th>persons</th>\n",
       "      <th>lug_boot</th>\n",
       "      <th>safety</th>\n",
       "      <th>outcome</th>\n",
       "    </tr>\n",
       "  </thead>\n",
       "  <tbody>\n",
       "    <tr>\n",
       "      <th>0</th>\n",
       "      <td>vhigh</td>\n",
       "      <td>vhigh</td>\n",
       "      <td>2</td>\n",
       "      <td>2</td>\n",
       "      <td>small</td>\n",
       "      <td>low</td>\n",
       "      <td>unacc</td>\n",
       "    </tr>\n",
       "    <tr>\n",
       "      <th>1</th>\n",
       "      <td>vhigh</td>\n",
       "      <td>vhigh</td>\n",
       "      <td>2</td>\n",
       "      <td>2</td>\n",
       "      <td>small</td>\n",
       "      <td>med</td>\n",
       "      <td>unacc</td>\n",
       "    </tr>\n",
       "    <tr>\n",
       "      <th>2</th>\n",
       "      <td>vhigh</td>\n",
       "      <td>vhigh</td>\n",
       "      <td>2</td>\n",
       "      <td>2</td>\n",
       "      <td>small</td>\n",
       "      <td>high</td>\n",
       "      <td>unacc</td>\n",
       "    </tr>\n",
       "    <tr>\n",
       "      <th>3</th>\n",
       "      <td>vhigh</td>\n",
       "      <td>vhigh</td>\n",
       "      <td>2</td>\n",
       "      <td>2</td>\n",
       "      <td>med</td>\n",
       "      <td>low</td>\n",
       "      <td>unacc</td>\n",
       "    </tr>\n",
       "    <tr>\n",
       "      <th>4</th>\n",
       "      <td>vhigh</td>\n",
       "      <td>vhigh</td>\n",
       "      <td>2</td>\n",
       "      <td>2</td>\n",
       "      <td>med</td>\n",
       "      <td>med</td>\n",
       "      <td>unacc</td>\n",
       "    </tr>\n",
       "  </tbody>\n",
       "</table>\n",
       "</div>"
      ],
      "text/plain": [
       "  buying  maint  doors  persons lug_boot safety outcome\n",
       "0  vhigh  vhigh      2        2    small    low   unacc\n",
       "1  vhigh  vhigh      2        2    small    med   unacc\n",
       "2  vhigh  vhigh      2        2    small   high   unacc\n",
       "3  vhigh  vhigh      2        2      med    low   unacc\n",
       "4  vhigh  vhigh      2        2      med    med   unacc"
      ]
     },
     "execution_count": 2,
     "metadata": {},
     "output_type": "execute_result"
    }
   ],
   "source": [
    "data = pd.read_csv(\"car_evaluation.csv\")\n",
    "data.head()"
   ]
  },
  {
   "cell_type": "code",
   "execution_count": 3,
   "metadata": {},
   "outputs": [
    {
     "data": {
      "text/plain": [
       "(1728, 7)"
      ]
     },
     "execution_count": 3,
     "metadata": {},
     "output_type": "execute_result"
    }
   ],
   "source": [
    "data.shape"
   ]
  },
  {
   "cell_type": "code",
   "execution_count": 4,
   "metadata": {},
   "outputs": [],
   "source": [
    "X = data.iloc[:,:-1]\n",
    "y = data.outcome"
   ]
  },
  {
   "cell_type": "code",
   "execution_count": 5,
   "metadata": {},
   "outputs": [
    {
     "data": {
      "text/html": [
       "<div>\n",
       "<style scoped>\n",
       "    .dataframe tbody tr th:only-of-type {\n",
       "        vertical-align: middle;\n",
       "    }\n",
       "\n",
       "    .dataframe tbody tr th {\n",
       "        vertical-align: top;\n",
       "    }\n",
       "\n",
       "    .dataframe thead th {\n",
       "        text-align: right;\n",
       "    }\n",
       "</style>\n",
       "<table border=\"1\" class=\"dataframe\">\n",
       "  <thead>\n",
       "    <tr style=\"text-align: right;\">\n",
       "      <th></th>\n",
       "      <th>buying</th>\n",
       "      <th>maint</th>\n",
       "      <th>doors</th>\n",
       "      <th>persons</th>\n",
       "      <th>lug_boot</th>\n",
       "      <th>safety</th>\n",
       "    </tr>\n",
       "  </thead>\n",
       "  <tbody>\n",
       "    <tr>\n",
       "      <th>0</th>\n",
       "      <td>vhigh</td>\n",
       "      <td>vhigh</td>\n",
       "      <td>2</td>\n",
       "      <td>2</td>\n",
       "      <td>small</td>\n",
       "      <td>low</td>\n",
       "    </tr>\n",
       "    <tr>\n",
       "      <th>1</th>\n",
       "      <td>vhigh</td>\n",
       "      <td>vhigh</td>\n",
       "      <td>2</td>\n",
       "      <td>2</td>\n",
       "      <td>small</td>\n",
       "      <td>med</td>\n",
       "    </tr>\n",
       "    <tr>\n",
       "      <th>2</th>\n",
       "      <td>vhigh</td>\n",
       "      <td>vhigh</td>\n",
       "      <td>2</td>\n",
       "      <td>2</td>\n",
       "      <td>small</td>\n",
       "      <td>high</td>\n",
       "    </tr>\n",
       "  </tbody>\n",
       "</table>\n",
       "</div>"
      ],
      "text/plain": [
       "  buying  maint  doors  persons lug_boot safety\n",
       "0  vhigh  vhigh      2        2    small    low\n",
       "1  vhigh  vhigh      2        2    small    med\n",
       "2  vhigh  vhigh      2        2    small   high"
      ]
     },
     "execution_count": 5,
     "metadata": {},
     "output_type": "execute_result"
    }
   ],
   "source": [
    "X.head(3)"
   ]
  },
  {
   "cell_type": "code",
   "execution_count": 6,
   "metadata": {},
   "outputs": [
    {
     "data": {
      "text/html": [
       "<div>\n",
       "<style scoped>\n",
       "    .dataframe tbody tr th:only-of-type {\n",
       "        vertical-align: middle;\n",
       "    }\n",
       "\n",
       "    .dataframe tbody tr th {\n",
       "        vertical-align: top;\n",
       "    }\n",
       "\n",
       "    .dataframe thead th {\n",
       "        text-align: right;\n",
       "    }\n",
       "</style>\n",
       "<table border=\"1\" class=\"dataframe\">\n",
       "  <thead>\n",
       "    <tr style=\"text-align: right;\">\n",
       "      <th></th>\n",
       "      <th>buying</th>\n",
       "      <th>maint</th>\n",
       "      <th>doors</th>\n",
       "      <th>persons</th>\n",
       "      <th>lug_boot</th>\n",
       "      <th>safety</th>\n",
       "    </tr>\n",
       "  </thead>\n",
       "  <tbody>\n",
       "    <tr>\n",
       "      <th>0</th>\n",
       "      <td>3</td>\n",
       "      <td>3</td>\n",
       "      <td>2</td>\n",
       "      <td>2</td>\n",
       "      <td>2</td>\n",
       "      <td>1</td>\n",
       "    </tr>\n",
       "    <tr>\n",
       "      <th>1</th>\n",
       "      <td>3</td>\n",
       "      <td>3</td>\n",
       "      <td>2</td>\n",
       "      <td>2</td>\n",
       "      <td>2</td>\n",
       "      <td>2</td>\n",
       "    </tr>\n",
       "    <tr>\n",
       "      <th>2</th>\n",
       "      <td>3</td>\n",
       "      <td>3</td>\n",
       "      <td>2</td>\n",
       "      <td>2</td>\n",
       "      <td>2</td>\n",
       "      <td>0</td>\n",
       "    </tr>\n",
       "  </tbody>\n",
       "</table>\n",
       "</div>"
      ],
      "text/plain": [
       "   buying  maint  doors  persons  lug_boot  safety\n",
       "0       3      3      2        2         2       1\n",
       "1       3      3      2        2         2       2\n",
       "2       3      3      2        2         2       0"
      ]
     },
     "execution_count": 6,
     "metadata": {},
     "output_type": "execute_result"
    }
   ],
   "source": [
    "enc = LabelEncoder()\n",
    "X.buying = enc.fit_transform(X.buying)\n",
    "X.maint = enc.fit_transform(X.maint)\n",
    "X.lug_boot = enc.fit_transform(X.lug_boot)\n",
    "X.safety = enc.fit_transform(X.safety)\n",
    "X.head(3)"
   ]
  },
  {
   "cell_type": "code",
   "execution_count": 7,
   "metadata": {},
   "outputs": [],
   "source": [
    "X_train, X_test, y_train, y_test=train_test_split(X,y,random_state=10)"
   ]
  },
  {
   "cell_type": "code",
   "execution_count": 8,
   "metadata": {},
   "outputs": [
    {
     "data": {
      "text/plain": [
       "0.9930555555555556"
      ]
     },
     "execution_count": 8,
     "metadata": {},
     "output_type": "execute_result"
    }
   ],
   "source": [
    "model = SVC(C=2,gamma=1,kernel='rbf')#C=0.1 to 1000, gamma= 0.0001 to 10\n",
    "model.fit(X_train,y_train)\n",
    "y_predict = model.predict(X_test)\n",
    "accuracy_score(y_test,y_predict)"
   ]
  },
  {
   "cell_type": "code",
   "execution_count": 9,
   "metadata": {},
   "outputs": [
    {
     "name": "stdout",
     "output_type": "stream",
     "text": [
      "Counter({'unacc': 307, 'acc': 84, 'vgood': 22, 'good': 19})\n"
     ]
    },
    {
     "data": {
      "text/html": [
       "<div>\n",
       "<style scoped>\n",
       "    .dataframe tbody tr th:only-of-type {\n",
       "        vertical-align: middle;\n",
       "    }\n",
       "\n",
       "    .dataframe tbody tr th {\n",
       "        vertical-align: top;\n",
       "    }\n",
       "\n",
       "    .dataframe thead th {\n",
       "        text-align: right;\n",
       "    }\n",
       "</style>\n",
       "<table border=\"1\" class=\"dataframe\">\n",
       "  <thead>\n",
       "    <tr style=\"text-align: right;\">\n",
       "      <th>col_0</th>\n",
       "      <th>acc</th>\n",
       "      <th>good</th>\n",
       "      <th>unacc</th>\n",
       "      <th>vgood</th>\n",
       "    </tr>\n",
       "    <tr>\n",
       "      <th>outcome</th>\n",
       "      <th></th>\n",
       "      <th></th>\n",
       "      <th></th>\n",
       "      <th></th>\n",
       "    </tr>\n",
       "  </thead>\n",
       "  <tbody>\n",
       "    <tr>\n",
       "      <th>acc</th>\n",
       "      <td>83</td>\n",
       "      <td>0</td>\n",
       "      <td>1</td>\n",
       "      <td>0</td>\n",
       "    </tr>\n",
       "    <tr>\n",
       "      <th>good</th>\n",
       "      <td>0</td>\n",
       "      <td>19</td>\n",
       "      <td>0</td>\n",
       "      <td>0</td>\n",
       "    </tr>\n",
       "    <tr>\n",
       "      <th>unacc</th>\n",
       "      <td>0</td>\n",
       "      <td>0</td>\n",
       "      <td>307</td>\n",
       "      <td>0</td>\n",
       "    </tr>\n",
       "    <tr>\n",
       "      <th>vgood</th>\n",
       "      <td>2</td>\n",
       "      <td>0</td>\n",
       "      <td>0</td>\n",
       "      <td>20</td>\n",
       "    </tr>\n",
       "  </tbody>\n",
       "</table>\n",
       "</div>"
      ],
      "text/plain": [
       "col_0    acc  good  unacc  vgood\n",
       "outcome                         \n",
       "acc       83     0      1      0\n",
       "good       0    19      0      0\n",
       "unacc      0     0    307      0\n",
       "vgood      2     0      0     20"
      ]
     },
     "execution_count": 9,
     "metadata": {},
     "output_type": "execute_result"
    }
   ],
   "source": [
    "print(Counter(y_test))\n",
    "pd.crosstab(y_test,y_predict)"
   ]
  },
  {
   "cell_type": "markdown",
   "metadata": {},
   "source": [
    "### GridSearchCV"
   ]
  },
  {
   "cell_type": "code",
   "execution_count": 10,
   "metadata": {},
   "outputs": [],
   "source": [
    "from sklearn.model_selection import GridSearchCV"
   ]
  },
  {
   "cell_type": "code",
   "execution_count": 11,
   "metadata": {},
   "outputs": [
    {
     "name": "stdout",
     "output_type": "stream",
     "text": [
      "Fitting 5 folds for each of 16 candidates, totalling 80 fits\n",
      "[CV] C=1, gamma=0.01, kernel=rbf .....................................\n",
      "[CV] ......... C=1, gamma=0.01, kernel=rbf, score=0.696, total=   0.1s\n",
      "[CV] C=1, gamma=0.01, kernel=rbf .....................................\n",
      "[CV] ......... C=1, gamma=0.01, kernel=rbf, score=0.699, total=   0.0s\n",
      "[CV] C=1, gamma=0.01, kernel=rbf .....................................\n",
      "[CV] ......... C=1, gamma=0.01, kernel=rbf, score=0.699, total=   0.0s\n",
      "[CV] C=1, gamma=0.01, kernel=rbf .....................................\n",
      "[CV] ......... C=1, gamma=0.01, kernel=rbf, score=0.695, total=   0.0s"
     ]
    },
    {
     "name": "stderr",
     "output_type": "stream",
     "text": [
      "[Parallel(n_jobs=1)]: Using backend SequentialBackend with 1 concurrent workers.\n",
      "[Parallel(n_jobs=1)]: Done   1 out of   1 | elapsed:    0.0s remaining:    0.0s\n",
      "[Parallel(n_jobs=1)]: Done   2 out of   2 | elapsed:    0.0s remaining:    0.0s\n"
     ]
    },
    {
     "name": "stdout",
     "output_type": "stream",
     "text": [
      "\n",
      "[CV] C=1, gamma=0.01, kernel=rbf .....................................\n",
      "[CV] ......... C=1, gamma=0.01, kernel=rbf, score=0.695, total=   0.1s\n",
      "[CV] C=1, gamma=0.1, kernel=rbf ......................................\n",
      "[CV] .......... C=1, gamma=0.1, kernel=rbf, score=0.815, total=   0.0s\n",
      "[CV] C=1, gamma=0.1, kernel=rbf ......................................\n",
      "[CV] .......... C=1, gamma=0.1, kernel=rbf, score=0.861, total=   0.0s\n",
      "[CV] C=1, gamma=0.1, kernel=rbf ......................................\n",
      "[CV] .......... C=1, gamma=0.1, kernel=rbf, score=0.795, total=   0.0s\n",
      "[CV] C=1, gamma=0.1, kernel=rbf ......................................\n",
      "[CV] .......... C=1, gamma=0.1, kernel=rbf, score=0.838, total=   0.1s\n",
      "[CV] C=1, gamma=0.1, kernel=rbf ......................................\n",
      "[CV] .......... C=1, gamma=0.1, kernel=rbf, score=0.822, total=   0.0s\n",
      "[CV] C=1, gamma=0.5, kernel=rbf ......................................\n",
      "[CV] .......... C=1, gamma=0.5, kernel=rbf, score=0.942, total=   0.1s\n",
      "[CV] C=1, gamma=0.5, kernel=rbf ......................................\n",
      "[CV] .......... C=1, gamma=0.5, kernel=rbf, score=0.954, total=   0.1s\n",
      "[CV] C=1, gamma=0.5, kernel=rbf ......................................\n",
      "[CV] .......... C=1, gamma=0.5, kernel=rbf, score=0.938, total=   0.1s\n",
      "[CV] C=1, gamma=0.5, kernel=rbf ......................................\n",
      "[CV] .......... C=1, gamma=0.5, kernel=rbf, score=0.946, total=   0.1s\n",
      "[CV] C=1, gamma=0.5, kernel=rbf ......................................\n",
      "[CV] .......... C=1, gamma=0.5, kernel=rbf, score=0.954, total=   0.1s\n",
      "[CV] C=1, gamma=1.0, kernel=rbf ......................................\n",
      "[CV] .......... C=1, gamma=1.0, kernel=rbf, score=0.938, total=   0.1s\n",
      "[CV] C=1, gamma=1.0, kernel=rbf ......................................\n",
      "[CV] .......... C=1, gamma=1.0, kernel=rbf, score=0.931, total=   0.1s\n",
      "[CV] C=1, gamma=1.0, kernel=rbf ......................................\n",
      "[CV] .......... C=1, gamma=1.0, kernel=rbf, score=0.931, total=   0.1s\n",
      "[CV] C=1, gamma=1.0, kernel=rbf ......................................\n",
      "[CV] .......... C=1, gamma=1.0, kernel=rbf, score=0.946, total=   0.1s\n",
      "[CV] C=1, gamma=1.0, kernel=rbf ......................................\n",
      "[CV] .......... C=1, gamma=1.0, kernel=rbf, score=0.915, total=   0.1s\n",
      "[CV] C=10, gamma=0.01, kernel=rbf ....................................\n",
      "[CV] ........ C=10, gamma=0.01, kernel=rbf, score=0.738, total=   0.0s\n",
      "[CV] C=10, gamma=0.01, kernel=rbf ....................................\n",
      "[CV] ........ C=10, gamma=0.01, kernel=rbf, score=0.730, total=   0.0s\n",
      "[CV] C=10, gamma=0.01, kernel=rbf ....................................\n",
      "[CV] ........ C=10, gamma=0.01, kernel=rbf, score=0.722, total=   0.1s\n",
      "[CV] C=10, gamma=0.01, kernel=rbf ....................................\n",
      "[CV] ........ C=10, gamma=0.01, kernel=rbf, score=0.703, total=   0.0s\n",
      "[CV] C=10, gamma=0.01, kernel=rbf ....................................\n",
      "[CV] ........ C=10, gamma=0.01, kernel=rbf, score=0.718, total=   0.0s\n",
      "[CV] C=10, gamma=0.1, kernel=rbf .....................................\n",
      "[CV] ......... C=10, gamma=0.1, kernel=rbf, score=0.954, total=   0.0s\n",
      "[CV] C=10, gamma=0.1, kernel=rbf .....................................\n",
      "[CV] ......... C=10, gamma=0.1, kernel=rbf, score=0.969, total=   0.1s\n",
      "[CV] C=10, gamma=0.1, kernel=rbf .....................................\n",
      "[CV] ......... C=10, gamma=0.1, kernel=rbf, score=0.954, total=   0.0s\n",
      "[CV] C=10, gamma=0.1, kernel=rbf .....................................\n",
      "[CV] ......... C=10, gamma=0.1, kernel=rbf, score=0.985, total=   0.0s\n",
      "[CV] C=10, gamma=0.1, kernel=rbf .....................................\n",
      "[CV] ......... C=10, gamma=0.1, kernel=rbf, score=0.965, total=   0.0s\n",
      "[CV] C=10, gamma=0.5, kernel=rbf .....................................\n",
      "[CV] ......... C=10, gamma=0.5, kernel=rbf, score=0.973, total=   0.1s\n",
      "[CV] C=10, gamma=0.5, kernel=rbf .....................................\n",
      "[CV] ......... C=10, gamma=0.5, kernel=rbf, score=0.985, total=   0.1s\n",
      "[CV] C=10, gamma=0.5, kernel=rbf .....................................\n",
      "[CV] ......... C=10, gamma=0.5, kernel=rbf, score=0.965, total=   0.1s\n",
      "[CV] C=10, gamma=0.5, kernel=rbf .....................................\n",
      "[CV] ......... C=10, gamma=0.5, kernel=rbf, score=0.985, total=   0.1s\n",
      "[CV] C=10, gamma=0.5, kernel=rbf .....................................\n",
      "[CV] ......... C=10, gamma=0.5, kernel=rbf, score=0.977, total=   0.1s\n",
      "[CV] C=10, gamma=1.0, kernel=rbf .....................................\n",
      "[CV] ......... C=10, gamma=1.0, kernel=rbf, score=0.958, total=   0.1s\n",
      "[CV] C=10, gamma=1.0, kernel=rbf .....................................\n",
      "[CV] ......... C=10, gamma=1.0, kernel=rbf, score=0.954, total=   0.1s\n",
      "[CV] C=10, gamma=1.0, kernel=rbf .....................................\n",
      "[CV] ......... C=10, gamma=1.0, kernel=rbf, score=0.954, total=   0.1s\n",
      "[CV] C=10, gamma=1.0, kernel=rbf .....................................\n",
      "[CV] ......... C=10, gamma=1.0, kernel=rbf, score=0.973, total=   0.1s\n",
      "[CV] C=10, gamma=1.0, kernel=rbf .....................................\n",
      "[CV] ......... C=10, gamma=1.0, kernel=rbf, score=0.950, total=   0.1s\n",
      "[CV] C=100, gamma=0.01, kernel=rbf ...................................\n",
      "[CV] ....... C=100, gamma=0.01, kernel=rbf, score=0.900, total=   0.1s\n",
      "[CV] C=100, gamma=0.01, kernel=rbf ...................................\n",
      "[CV] ....... C=100, gamma=0.01, kernel=rbf, score=0.919, total=   0.0s\n",
      "[CV] C=100, gamma=0.01, kernel=rbf ...................................\n",
      "[CV] ....... C=100, gamma=0.01, kernel=rbf, score=0.903, total=   0.1s\n",
      "[CV] C=100, gamma=0.01, kernel=rbf ...................................\n",
      "[CV] ....... C=100, gamma=0.01, kernel=rbf, score=0.861, total=   0.1s\n",
      "[CV] C=100, gamma=0.01, kernel=rbf ...................................\n",
      "[CV] ....... C=100, gamma=0.01, kernel=rbf, score=0.900, total=   0.0s\n",
      "[CV] C=100, gamma=0.1, kernel=rbf ....................................\n",
      "[CV] ........ C=100, gamma=0.1, kernel=rbf, score=0.985, total=   0.1s\n",
      "[CV] C=100, gamma=0.1, kernel=rbf ....................................\n",
      "[CV] ........ C=100, gamma=0.1, kernel=rbf, score=0.996, total=   0.1s\n",
      "[CV] C=100, gamma=0.1, kernel=rbf ....................................\n",
      "[CV] ........ C=100, gamma=0.1, kernel=rbf, score=0.996, total=   0.1s\n",
      "[CV] C=100, gamma=0.1, kernel=rbf ....................................\n",
      "[CV] ........ C=100, gamma=0.1, kernel=rbf, score=0.977, total=   0.0s\n",
      "[CV] C=100, gamma=0.1, kernel=rbf ....................................\n",
      "[CV] ........ C=100, gamma=0.1, kernel=rbf, score=0.969, total=   0.1s\n",
      "[CV] C=100, gamma=0.5, kernel=rbf ....................................\n",
      "[CV] ........ C=100, gamma=0.5, kernel=rbf, score=0.973, total=   0.1s\n",
      "[CV] C=100, gamma=0.5, kernel=rbf ....................................\n",
      "[CV] ........ C=100, gamma=0.5, kernel=rbf, score=0.985, total=   0.1s\n",
      "[CV] C=100, gamma=0.5, kernel=rbf ....................................\n",
      "[CV] ........ C=100, gamma=0.5, kernel=rbf, score=0.965, total=   0.1s\n",
      "[CV] C=100, gamma=0.5, kernel=rbf ....................................\n",
      "[CV] ........ C=100, gamma=0.5, kernel=rbf, score=0.985, total=   0.1s\n",
      "[CV] C=100, gamma=0.5, kernel=rbf ....................................\n",
      "[CV] ........ C=100, gamma=0.5, kernel=rbf, score=0.977, total=   0.1s\n",
      "[CV] C=100, gamma=1.0, kernel=rbf ....................................\n",
      "[CV] ........ C=100, gamma=1.0, kernel=rbf, score=0.958, total=   0.1s\n",
      "[CV] C=100, gamma=1.0, kernel=rbf ....................................\n",
      "[CV] ........ C=100, gamma=1.0, kernel=rbf, score=0.954, total=   0.1s\n",
      "[CV] C=100, gamma=1.0, kernel=rbf ....................................\n",
      "[CV] ........ C=100, gamma=1.0, kernel=rbf, score=0.954, total=   0.1s\n",
      "[CV] C=100, gamma=1.0, kernel=rbf ....................................\n",
      "[CV] ........ C=100, gamma=1.0, kernel=rbf, score=0.973, total=   0.1s\n",
      "[CV] C=100, gamma=1.0, kernel=rbf ....................................\n",
      "[CV] ........ C=100, gamma=1.0, kernel=rbf, score=0.950, total=   0.1s\n",
      "[CV] C=500, gamma=0.01, kernel=rbf ...................................\n",
      "[CV] ....... C=500, gamma=0.01, kernel=rbf, score=0.938, total=   0.1s\n",
      "[CV] C=500, gamma=0.01, kernel=rbf ...................................\n",
      "[CV] ....... C=500, gamma=0.01, kernel=rbf, score=0.973, total=   0.1s\n",
      "[CV] C=500, gamma=0.01, kernel=rbf ...................................\n",
      "[CV] ....... C=500, gamma=0.01, kernel=rbf, score=0.954, total=   0.1s\n",
      "[CV] C=500, gamma=0.01, kernel=rbf ...................................\n"
     ]
    },
    {
     "name": "stdout",
     "output_type": "stream",
     "text": [
      "[CV] ....... C=500, gamma=0.01, kernel=rbf, score=0.973, total=   0.1s\n",
      "[CV] C=500, gamma=0.01, kernel=rbf ...................................\n",
      "[CV] ....... C=500, gamma=0.01, kernel=rbf, score=0.961, total=   0.1s\n",
      "[CV] C=500, gamma=0.1, kernel=rbf ....................................\n",
      "[CV] ........ C=500, gamma=0.1, kernel=rbf, score=0.985, total=   0.1s\n",
      "[CV] C=500, gamma=0.1, kernel=rbf ....................................\n",
      "[CV] ........ C=500, gamma=0.1, kernel=rbf, score=0.988, total=   0.1s\n",
      "[CV] C=500, gamma=0.1, kernel=rbf ....................................\n",
      "[CV] ........ C=500, gamma=0.1, kernel=rbf, score=0.996, total=   0.1s\n",
      "[CV] C=500, gamma=0.1, kernel=rbf ....................................\n",
      "[CV] ........ C=500, gamma=0.1, kernel=rbf, score=0.977, total=   0.1s\n",
      "[CV] C=500, gamma=0.1, kernel=rbf ....................................\n",
      "[CV] ........ C=500, gamma=0.1, kernel=rbf, score=0.977, total=   0.1s\n",
      "[CV] C=500, gamma=0.5, kernel=rbf ....................................\n",
      "[CV] ........ C=500, gamma=0.5, kernel=rbf, score=0.973, total=   0.1s\n",
      "[CV] C=500, gamma=0.5, kernel=rbf ....................................\n",
      "[CV] ........ C=500, gamma=0.5, kernel=rbf, score=0.985, total=   0.1s\n",
      "[CV] C=500, gamma=0.5, kernel=rbf ....................................\n",
      "[CV] ........ C=500, gamma=0.5, kernel=rbf, score=0.965, total=   0.1s\n",
      "[CV] C=500, gamma=0.5, kernel=rbf ....................................\n",
      "[CV] ........ C=500, gamma=0.5, kernel=rbf, score=0.985, total=   0.1s\n",
      "[CV] C=500, gamma=0.5, kernel=rbf ....................................\n",
      "[CV] ........ C=500, gamma=0.5, kernel=rbf, score=0.977, total=   0.1s\n",
      "[CV] C=500, gamma=1.0, kernel=rbf ....................................\n",
      "[CV] ........ C=500, gamma=1.0, kernel=rbf, score=0.958, total=   0.1s\n",
      "[CV] C=500, gamma=1.0, kernel=rbf ....................................\n",
      "[CV] ........ C=500, gamma=1.0, kernel=rbf, score=0.954, total=   0.1s\n",
      "[CV] C=500, gamma=1.0, kernel=rbf ....................................\n",
      "[CV] ........ C=500, gamma=1.0, kernel=rbf, score=0.954, total=   0.1s\n",
      "[CV] C=500, gamma=1.0, kernel=rbf ....................................\n",
      "[CV] ........ C=500, gamma=1.0, kernel=rbf, score=0.973, total=   0.1s\n",
      "[CV] C=500, gamma=1.0, kernel=rbf ....................................\n",
      "[CV] ........ C=500, gamma=1.0, kernel=rbf, score=0.950, total=   0.1s\n"
     ]
    },
    {
     "name": "stderr",
     "output_type": "stream",
     "text": [
      "[Parallel(n_jobs=1)]: Done  80 out of  80 | elapsed:    6.0s finished\n"
     ]
    },
    {
     "data": {
      "text/plain": [
       "GridSearchCV(estimator=SVC(),\n",
       "             param_grid={'C': [1, 10, 100, 500], 'gamma': [0.01, 0.1, 0.5, 1.0],\n",
       "                         'kernel': ['rbf']},\n",
       "             verbose=3)"
      ]
     },
     "execution_count": 11,
     "metadata": {},
     "output_type": "execute_result"
    }
   ],
   "source": [
    "parameters = {'kernel':['rbf'],\n",
    "                 'C':[1,10,100,500],\n",
    "                 'gamma': [0.01,0.1,0.5,1.0]}\n",
    "grid_model = GridSearchCV(SVC(),parameters,verbose=3)\n",
    "grid_model.fit(X_train,y_train)\n"
   ]
  },
  {
   "cell_type": "code",
   "execution_count": 12,
   "metadata": {},
   "outputs": [
    {
     "data": {
      "text/plain": [
       "0.9845678645678646"
      ]
     },
     "execution_count": 12,
     "metadata": {},
     "output_type": "execute_result"
    }
   ],
   "source": [
    "grid_model.best_score_"
   ]
  },
  {
   "cell_type": "code",
   "execution_count": 13,
   "metadata": {},
   "outputs": [
    {
     "data": {
      "text/plain": [
       "{'C': 100, 'gamma': 0.1, 'kernel': 'rbf'}"
      ]
     },
     "execution_count": 13,
     "metadata": {},
     "output_type": "execute_result"
    }
   ],
   "source": [
    "grid_model.best_params_"
   ]
  },
  {
   "cell_type": "code",
   "execution_count": null,
   "metadata": {},
   "outputs": [],
   "source": [
    "enc = LabelEncoder()\n",
    "X.battery_power = enc.fit_transform(X.battery_power)\n",
    "X.blue = enc.fit_transform(X.blue)\n",
    "X.clock_speed = enc.fit_transform(X.clock_speed)\n",
    "X.dual_sim = enc.fit_transform(X.dual_sim)\n",
    "X.fc = enc.fit_transform(X.fc)\n",
    "X.four_g = enc.fit_transform(X.four_g)\n",
    "X.int_memory = enc.fit_transform(X.int_memory)\n",
    "X.m_dep = enc.fit_transform(X.m_dep)\n",
    "X.mobile_wt = enc.fit_transform(X.mobile_wt)\n",
    "X.n_cores = enc.fit_transform(X.n_cores)\n",
    "X.pc = enc.fit_transform(X.pc)\n",
    "X.px_height = enc.fit_transform(X.px_height)\n",
    "X.px_width = enc.fit_transform(X.px_width)\n",
    "X.ram = enc.fit_transform(X.ram)\n",
    "X.sc_h = enc.fit_transform(X.sc_h)\n",
    "X.sc_w = enc.fit_transform(X.sc_w)\n",
    "X.talk_time = enc.fit_transform(X.talk_time)\n",
    "X.three_g = enc.fit_transform(X.three_g)\n",
    "X.touch_screen = enc.fit_transform(X.touch_screen)\n",
    "X.wifi = enc.fit_transform(X.wifi)"
   ]
  }
 ],
 "metadata": {
  "kernelspec": {
   "display_name": "Python 3",
   "language": "python",
   "name": "python3"
  },
  "language_info": {
   "codemirror_mode": {
    "name": "ipython",
    "version": 3
   },
   "file_extension": ".py",
   "mimetype": "text/x-python",
   "name": "python",
   "nbconvert_exporter": "python",
   "pygments_lexer": "ipython3",
   "version": "3.8.3"
  }
 },
 "nbformat": 4,
 "nbformat_minor": 4
}
